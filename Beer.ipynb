{
 "cells": [
  {
   "cell_type": "code",
   "execution_count": 2,
   "metadata": {},
   "outputs": [],
   "source": [
    "from splinter import Browser\n",
    "from bs4 import BeautifulSoup"
   ]
  },
  {
   "cell_type": "code",
   "execution_count": 3,
   "metadata": {},
   "outputs": [],
   "source": [
    "path = {\"executable_path\":\"/usr/local/bin/chromedriver\"}\n",
    "browser = Browser(\"chrome\", **path, headless=False)"
   ]
  },
  {
   "cell_type": "code",
   "execution_count": 4,
   "metadata": {},
   "outputs": [],
   "source": [
    "url = 'https://bigworldsmallgirl.com/central-texas-brewery-guide/#:~:text=With%20over%2058%20breweries%20in,love%20about%20our%20craft%20beer.'\n",
    "browser.visit(url)\n",
    "html = browser.html\n",
    "soup = BeautifulSoup(html, 'html.parser')"
   ]
  },
  {
   "cell_type": "code",
   "execution_count": 5,
   "metadata": {},
   "outputs": [],
   "source": [
    "brewery_data = soup.find('div', class_='entry-content clearfix')\n",
    "brewerylist = brewery_data.find_all('p')"
   ]
  },
  {
   "cell_type": "code",
   "execution_count": 6,
   "metadata": {},
   "outputs": [
    {
     "name": "stdout",
     "output_type": "stream",
     "text": [
      "['4th Tap Brewing Cooperative', 'Adelbert’s Brewery', 'Austin Beerworks', 'Black Star Co-Op', 'Brewtorium', 'Celis Brewing', 'Circle Brewing', 'Draught House', 'Flying Man Brewing', 'Oskar Blues', 'Pinthouse Pizza', 'Bluebonnet Beer Company', 'Bull Creek Brewing', 'Compadre Brewing', 'Flix Brewhouse', 'Pinthouse Pizza', 'Red Horn Coffee House & Brewing Co.', 'Rentsch Brewery', 'San Gabriel River Brewery', 'Whitestone Brewery', '(512) Brewing', 'Austin Beer Garden & Brewery (ABGB)', 'Independence Brewing', 'Orf Brewing', 'Pinthouse Pizza', 'Skull Mechanix Brewing', 'St Elmo Brewing', 'Thirsty Planet Brewing', 'Two Wheel Brewing', 'Batch Brewhouse', 'Blue Owl Brewing', 'Brewer’s Table', 'Friends & Allies Brewing', 'Hi Sign Brewing', 'Hops and Grain', 'Lazarus Brewing', 'Live Oak Brewing', 'Oddwood Ales', 'Southern Heights Brewing', 'Zilker Brewing', 'Acopon Brewing', 'Beerburg Brewing', 'Family Business Beer', 'Infamous Brewing Company', 'Jester King Brewery', 'Last Stand Brewing', 'Oasis Texas Brewing', 'Suds Monkey Brewing ', 'Twisted X Brewing', 'Vista Brewing', 'Hitmaker Brewing Company']\n"
     ]
    }
   ],
   "source": [
    "breweries=[]\n",
    "for brewery in brewerylist:\n",
    "    if brewery.a and brewery.a.strong:\n",
    "        breweries.append(brewery.a.string)\n",
    "print(breweries)"
   ]
  },
  {
   "cell_type": "code",
   "execution_count": 7,
   "metadata": {},
   "outputs": [
    {
     "data": {
      "text/plain": [
       "[' 10615 Metric Boulevard, 78758',\n",
       " ' 2314 Rutland Drive, 78758',\n",
       " ' 3001 Industrial Terrace, 78758',\n",
       " ' 7020 Easy Wind Drive, 78752 [K] ',\n",
       " ' 6015 Dillard Circle, 78752 [K] [BWSG]',\n",
       " ' 10001 Metric Boulevard, 78758 [BWSG]',\n",
       " ' 2340 W Braker Lane, 78758 [BWSG]',\n",
       " ' 4112 Medical Parkway, 78756 [BWSG]',\n",
       " ' 2400 Patterson Industrial Drive, 78660 ',\n",
       " ' 10420 Metric Boulevard, 78758',\n",
       " ' 4729 Burnet Road, 78756 [K] [BWSG]',\n",
       " ' 1700 Bryant Dr. #107, Round Rock, 78664 [BWSG]',\n",
       " ' 7100 FM 3405,\\xa0Liberty Hill, 78642',\n",
       " ' 16920 Joe Barbee Drive Bldg 1, Round Rock, 78664',\n",
       " ' 2200 S Interstate 35 B1, Round Rock, 78681',\n",
       " ' 2800 Hoppe Trail, Round Rock, 78681  [K]',\n",
       " ' 13010 W. Parmer Ln. #800, Cedar Park,\\xa078613 [K] ',\n",
       " ' 2500 NE Inner Loop, Georgetown,\\xa078626',\n",
       " ' 500 Chaparral Drive,\\xa0Liberty Hill, 78641 [BWSG]',\n",
       " ' 601 E. Whitestone Blvd. #500, Cedar Park, 78613',\n",
       " ' 407 Radam Lane, 78745',\n",
       " ' 1305 W Oltorf Street, 78704 [K] [BWSG]',\n",
       " ' 3913 Todd Lane #607, 78744',\n",
       " ' 4700-F Burle\\xadson Road, 78744',\n",
       " ' 4236 S Lamar Boulevard, 78704 [K]',\n",
       " ' 1005 E St Elmo Road,\\xa0 78745 [BWSG]',\n",
       " ' 440 E St Elmo Road, 78745 [BWSG]',\n",
       " ' 8201 S Congress Avenue, 78745',\n",
       " ' 535 S. Loop 4, Buda, 78610',\n",
       " ' 3220 Manor Road, 78723',\n",
       " ' 2400 E Cesar Chavez Street, 78702 [BWSG]',\n",
       " ' 4715 E 5th Street, 78702 [K]',\n",
       " '\\xa0979 Springdale Road, 78702',\n",
       " ' 1201 Bastrop Highway, 78742',\n",
       " ' 507 Calles Street, 78702 ',\n",
       " ' 1902 E 6th Street, 78702 [K] [BWSG]',\n",
       " ' 1615 Crozier Lane, Del Valle, 78617',\n",
       " ' 3108 Manor Road, 78723 [K]',\n",
       " ' 6014 Techni Center Drive, 78721 [BWSG]',\n",
       " ' 1701 E 6th Street, 78702',\n",
       " ' 211 W. Mercer Street, Dripping Springs,\\xa078620',\n",
       " ' 13476 Fitzhugh Rd, Austin, TX 78736 [K]',\n",
       " ' 19510 Hamilton Pool Road, Dripping Springs, 78620 [BWSG]',\n",
       " ' 4602 Weletka Drive, Austin, 78734 ',\n",
       " ' 13187 Fitzhugh Road, Austin, 78736 [K]',\n",
       " ' 12345 Pauls Valley Road, Austin, 78737',\n",
       " ' 6550 Comanche Trail, Austin, 78732 [K]',\n",
       " '1032 Canyon Bend Drive, Dripping Springs, 78620',\n",
       " ' 23455 Ranch to Market Road 150, Dripping Springs, 78620',\n",
       " ' 13551 Ranch to Market Road 150, Driftwood, 78619 [BWSG] [K]',\n",
       " ' (under construction) 11160 Circle Drive, 78736']"
      ]
     },
     "execution_count": 7,
     "metadata": {},
     "output_type": "execute_result"
    }
   ],
   "source": [
    "addresses=[]\n",
    "for address in brewerylist:\n",
    "    if address.a and address.a.strong:\n",
    "        addresses.append(address.a.next_sibling)\n",
    "addresses[29] = ' 3220 Manor Road, 78723'\n",
    "\n",
    "addresses"
   ]
  },
  {
   "cell_type": "code",
   "execution_count": null,
   "metadata": {},
   "outputs": [],
   "source": []
  }
 ],
 "metadata": {
  "kernelspec": {
   "display_name": "Python 3",
   "language": "python",
   "name": "python3"
  },
  "language_info": {
   "codemirror_mode": {
    "name": "ipython",
    "version": 3
   },
   "file_extension": ".py",
   "mimetype": "text/x-python",
   "name": "python",
   "nbconvert_exporter": "python",
   "pygments_lexer": "ipython3",
   "version": "3.7.6"
  }
 },
 "nbformat": 4,
 "nbformat_minor": 4
}
